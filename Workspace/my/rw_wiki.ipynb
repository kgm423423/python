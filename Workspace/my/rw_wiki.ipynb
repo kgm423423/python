{
 "cells": [
  {
   "cell_type": "code",
   "execution_count": 24,
   "id": "bedbb0c9",
   "metadata": {},
   "outputs": [],
   "source": [
    "from urllib import request\n",
    "import requests\n",
    "from bs4 import BeautifulSoup\n",
    "import re"
   ]
  },
  {
   "cell_type": "code",
   "execution_count": 18,
   "id": "eb4573a2",
   "metadata": {},
   "outputs": [],
   "source": [
    "# 브라우저로 위장\n",
    "my_headers = {\n",
    "    \"User-Agent\": \"Mozilla/5.0 (Windows NT 10.0; Win64; x64) AppleWebKit/537.36 (KHTML, like Gecko) Chrome/125.0 Safari/537.36\"\n",
    "}\n",
    "\n",
    "response = requests.get('https://rainworld.miraheze.org/wiki/Monk', headers=my_headers)\n",
    "html = response.content.decode('utf-8')\n",
    "soup = BeautifulSoup(html, 'html.parser')\n"
   ]
  },
  {
   "cell_type": "code",
   "execution_count": 26,
   "id": "6b39376b",
   "metadata": {},
   "outputs": [
    {
     "name": "stdout",
     "output_type": "stream",
     "text": [
      "['3', '2']\n"
     ]
    }
   ],
   "source": [
    "for p in soup.find_all('p'):\n",
    "    if (\"food pips\" in p.text):\n",
    "        num = re.findall(r'\\d+', p.text)\n",
    "        print(num)\n",
    "\n"
   ]
  }
 ],
 "metadata": {
  "kernelspec": {
   "display_name": "Python 3",
   "language": "python",
   "name": "python3"
  },
  "language_info": {
   "codemirror_mode": {
    "name": "ipython",
    "version": 3
   },
   "file_extension": ".py",
   "mimetype": "text/x-python",
   "name": "python",
   "nbconvert_exporter": "python",
   "pygments_lexer": "ipython3",
   "version": "3.11.9"
  }
 },
 "nbformat": 4,
 "nbformat_minor": 5
}
