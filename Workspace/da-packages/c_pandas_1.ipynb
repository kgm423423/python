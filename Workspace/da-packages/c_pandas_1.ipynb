{
 "cells": [
  {
   "cell_type": "code",
   "execution_count": 2,
   "id": "6afd8ebe",
   "metadata": {},
   "outputs": [],
   "source": [
    "%pip install pandas"
   ]
  },
  {
   "cell_type": "code",
   "execution_count": null,
   "id": "7625beb5",
   "metadata": {},
   "outputs": [
    {
     "name": "stdout",
     "output_type": "stream",
     "text": [
      "0    a\n",
      "1    b\n",
      "2    c\n",
      "3    d\n",
      "dtype: object\n",
      "RangeIndex(start=0, stop=4, step=1)\n"
     ]
    }
   ],
   "source": [
    "import pandas as pd\n",
    "import numpy as np\n",
    "\n",
    "# Series 만들기 1\n",
    "data = np.array(['a','b','c','d'])\n",
    "s = pd.Series(data)\n",
    "\n",
    "print(s)\n",
    "print(s.index)\n"
   ]
  },
  {
   "cell_type": "code",
   "execution_count": 7,
   "id": "bb4c18a8",
   "metadata": {},
   "outputs": [
    {
     "name": "stdout",
     "output_type": "stream",
     "text": [
      "a    0.0\n",
      "b    1.0\n",
      "c    2.0\n",
      "dtype: float64\n"
     ]
    }
   ],
   "source": [
    "# Series 만들기 2\n",
    "\n",
    "data = {'a' : 0., 'b' : 1., 'c' : 2.}\n",
    "s = pd.Series(data)\n",
    "print(s)"
   ]
  },
  {
   "cell_type": "code",
   "execution_count": 8,
   "id": "cb378192",
   "metadata": {},
   "outputs": [
    {
     "name": "stdout",
     "output_type": "stream",
     "text": [
      "b    1.0\n",
      "c    2.0\n",
      "d    NaN\n",
      "a    0.0\n",
      "dtype: float64\n"
     ]
    }
   ],
   "source": [
    "# Series 만들기 3\n",
    "\n",
    "data = {'a' : 0., 'b' : 1., 'c' : 2.}\n",
    "s = pd.Series(data, index=['b','c','d','a'])\n",
    "print(s)"
   ]
  },
  {
   "cell_type": "code",
   "execution_count": 15,
   "id": "51e3a761",
   "metadata": {},
   "outputs": [
    {
     "name": "stdout",
     "output_type": "stream",
     "text": [
      "3\n",
      "3\n"
     ]
    },
    {
     "name": "stderr",
     "output_type": "stream",
     "text": [
      "C:\\Users\\human\\AppData\\Local\\Temp\\ipykernel_10880\\3001851613.py:5: FutureWarning: Series.__getitem__ treating keys as positions is deprecated. In a future version, integer keys will always be treated as labels (consistent with DataFrame behavior). To access a value by position, use `ser.iloc[pos]`\n",
      "  print(s[2])   # 순서번호를 사용해 접근 - ! 경고사항 !\n"
     ]
    }
   ],
   "source": [
    "# Series 만들기 4\n",
    "\n",
    "s = pd.Series([1,2,3,4,5], index=['a','b','c','d','e'])\n",
    "print(s['c']) # index를 사용해 접근\n",
    "print(s[2])   # 순서번호를 사용해 접근 - ! 경고사항 !"
   ]
  },
  {
   "cell_type": "code",
   "execution_count": 17,
   "id": "10cf8416",
   "metadata": {},
   "outputs": [
    {
     "name": "stdout",
     "output_type": "stream",
     "text": [
      "c    3\n",
      "d    4\n",
      "e    5\n",
      "dtype: int64\n",
      "--------------\n",
      "d    4\n",
      "e    5\n",
      "dtype: int64\n"
     ]
    }
   ],
   "source": [
    "# Series 슬라이싱\n",
    "\n",
    "s = pd.Series([1,2,3,4,5], index=['a','b','c','d','e'])\n",
    "print(s['c' :]) # index를 사용해 접근\n",
    "print(\"--------------\")\n",
    "print(s[3 :])   # 순서번호를 사용해 접근 - ! 경고사항 !"
   ]
  },
  {
   "cell_type": "code",
   "execution_count": 45,
   "id": "f63e14a3",
   "metadata": {},
   "outputs": [
    {
     "data": {
      "text/html": [
       "<div>\n",
       "<style scoped>\n",
       "    .dataframe tbody tr th:only-of-type {\n",
       "        vertical-align: middle;\n",
       "    }\n",
       "\n",
       "    .dataframe tbody tr th {\n",
       "        vertical-align: top;\n",
       "    }\n",
       "\n",
       "    .dataframe thead th {\n",
       "        text-align: right;\n",
       "    }\n",
       "</style>\n",
       "<table border=\"1\" class=\"dataframe\">\n",
       "  <thead>\n",
       "    <tr style=\"text-align: right;\">\n",
       "      <th></th>\n",
       "      <th>name</th>\n",
       "      <th>age</th>\n",
       "    </tr>\n",
       "  </thead>\n",
       "  <tbody>\n",
       "    <tr>\n",
       "      <th>0</th>\n",
       "      <td>dog</td>\n",
       "      <td>2</td>\n",
       "    </tr>\n",
       "    <tr>\n",
       "      <th>1</th>\n",
       "      <td>cat</td>\n",
       "      <td>6</td>\n",
       "    </tr>\n",
       "  </tbody>\n",
       "</table>\n",
       "</div>"
      ],
      "text/plain": [
       "  name  age\n",
       "0  dog    2\n",
       "1  cat    6"
      ]
     },
     "execution_count": 45,
     "metadata": {},
     "output_type": "execute_result"
    }
   ],
   "source": [
    "# 데이터프레임 만들기 \n",
    "\n",
    "data = [{'name':'dog','age':2}, {'age':6, 'name':'cat'}]\n",
    "df = pd.DataFrame(data) \n",
    "\n",
    "df"
   ]
  },
  {
   "cell_type": "code",
   "execution_count": 46,
   "id": "c401153e",
   "metadata": {},
   "outputs": [
    {
     "data": {
      "text/html": [
       "<div>\n",
       "<style scoped>\n",
       "    .dataframe tbody tr th:only-of-type {\n",
       "        vertical-align: middle;\n",
       "    }\n",
       "\n",
       "    .dataframe tbody tr th {\n",
       "        vertical-align: top;\n",
       "    }\n",
       "\n",
       "    .dataframe thead th {\n",
       "        text-align: right;\n",
       "    }\n",
       "</style>\n",
       "<table border=\"1\" class=\"dataframe\">\n",
       "  <thead>\n",
       "    <tr style=\"text-align: right;\">\n",
       "      <th></th>\n",
       "      <th>name</th>\n",
       "      <th>age</th>\n",
       "      <th>color</th>\n",
       "    </tr>\n",
       "  </thead>\n",
       "  <tbody>\n",
       "    <tr>\n",
       "      <th>first</th>\n",
       "      <td>dog</td>\n",
       "      <td>2</td>\n",
       "      <td>NaN</td>\n",
       "    </tr>\n",
       "    <tr>\n",
       "      <th>second</th>\n",
       "      <td>cat</td>\n",
       "      <td>6</td>\n",
       "      <td>black</td>\n",
       "    </tr>\n",
       "  </tbody>\n",
       "</table>\n",
       "</div>"
      ],
      "text/plain": [
       "       name  age  color\n",
       "first   dog    2    NaN\n",
       "second  cat    6  black"
      ]
     },
     "execution_count": 46,
     "metadata": {},
     "output_type": "execute_result"
    }
   ],
   "source": [
    "# 데이터프레임 만들기 2\n",
    "\n",
    "data = data = [{'name':'dog','age':2}, {'age':6, 'name':'cat', 'color':'black'}]\n",
    "df = pd.DataFrame(data, index=[\"first\", \"second\"]) #인덱스 지정\n",
    "\n",
    "df"
   ]
  },
  {
   "cell_type": "code",
   "execution_count": 52,
   "id": "41f30b95",
   "metadata": {},
   "outputs": [
    {
     "data": {
      "text/html": [
       "<div>\n",
       "<style scoped>\n",
       "    .dataframe tbody tr th:only-of-type {\n",
       "        vertical-align: middle;\n",
       "    }\n",
       "\n",
       "    .dataframe tbody tr th {\n",
       "        vertical-align: top;\n",
       "    }\n",
       "\n",
       "    .dataframe thead th {\n",
       "        text-align: right;\n",
       "    }\n",
       "</style>\n",
       "<table border=\"1\" class=\"dataframe\">\n",
       "  <thead>\n",
       "    <tr style=\"text-align: right;\">\n",
       "      <th></th>\n",
       "      <th>name</th>\n",
       "      <th>age</th>\n",
       "    </tr>\n",
       "  </thead>\n",
       "  <tbody>\n",
       "    <tr>\n",
       "      <th>first</th>\n",
       "      <td>dog</td>\n",
       "      <td>2</td>\n",
       "    </tr>\n",
       "    <tr>\n",
       "      <th>second</th>\n",
       "      <td>cat</td>\n",
       "      <td>6</td>\n",
       "    </tr>\n",
       "  </tbody>\n",
       "</table>\n",
       "</div>"
      ],
      "text/plain": [
       "       name  age\n",
       "first   dog    2\n",
       "second  cat    6"
      ]
     },
     "execution_count": 52,
     "metadata": {},
     "output_type": "execute_result"
    }
   ],
   "source": [
    "# 데이터프레임 만들기 3\n",
    "\n",
    "data = [{'name':'dog','age':2}, {'age':6, 'name':'cat', 'color':'black'}]\n",
    "df = pd.DataFrame(data, index=[\"first\", \"second\"], columns=['name','age']) # 컬럼 지정\n",
    "# 지정한 컬럼이 우선순위가 높음\n",
    "\n",
    "df"
   ]
  },
  {
   "cell_type": "code",
   "execution_count": 51,
   "id": "201b5868",
   "metadata": {},
   "outputs": [
    {
     "data": {
      "text/html": [
       "<div>\n",
       "<style scoped>\n",
       "    .dataframe tbody tr th:only-of-type {\n",
       "        vertical-align: middle;\n",
       "    }\n",
       "\n",
       "    .dataframe tbody tr th {\n",
       "        vertical-align: top;\n",
       "    }\n",
       "\n",
       "    .dataframe thead th {\n",
       "        text-align: right;\n",
       "    }\n",
       "</style>\n",
       "<table border=\"1\" class=\"dataframe\">\n",
       "  <thead>\n",
       "    <tr style=\"text-align: right;\">\n",
       "      <th></th>\n",
       "      <th>name</th>\n",
       "      <th>age</th>\n",
       "    </tr>\n",
       "  </thead>\n",
       "  <tbody>\n",
       "    <tr>\n",
       "      <th>0</th>\n",
       "      <td>dog</td>\n",
       "      <td>2.0</td>\n",
       "    </tr>\n",
       "    <tr>\n",
       "      <th>1</th>\n",
       "      <td>cat</td>\n",
       "      <td>6.0</td>\n",
       "    </tr>\n",
       "    <tr>\n",
       "      <th>2</th>\n",
       "      <td>dolphin</td>\n",
       "      <td>15.0</td>\n",
       "    </tr>\n",
       "    <tr>\n",
       "      <th>3</th>\n",
       "      <td>angel</td>\n",
       "      <td>NaN</td>\n",
       "    </tr>\n",
       "  </tbody>\n",
       "</table>\n",
       "</div>"
      ],
      "text/plain": [
       "      name   age\n",
       "0      dog   2.0\n",
       "1      cat   6.0\n",
       "2  dolphin  15.0\n",
       "3    angel   NaN"
      ]
     },
     "execution_count": 51,
     "metadata": {},
     "output_type": "execute_result"
    }
   ],
   "source": [
    "# 데이터프레임 만들기 4\n",
    "\n",
    "s1 = pd.Series(['dog','cat','dolphin', 'angel'])\n",
    "s2 = pd.Series([2,6,15])\n",
    "\n",
    "data = {'name' : s1, 'age' : s2}\n",
    "\n",
    "df = pd.DataFrame(data)\n",
    "df"
   ]
  },
  {
   "cell_type": "code",
   "execution_count": 97,
   "id": "deff8e43",
   "metadata": {},
   "outputs": [
    {
     "name": "stdout",
     "output_type": "stream",
     "text": [
      "0        dog\n",
      "1        cat\n",
      "2    dolphin\n",
      "3      angel\n",
      "Name: name, dtype: object\n",
      "\n",
      "------------------------\n",
      "\n",
      "      name   age\n",
      "0      dog   2.0\n",
      "1      cat   6.0\n",
      "2  dolphin  15.0\n"
     ]
    }
   ],
   "source": [
    "# 데이터프레임 인덱싱, 슬라이싱\n",
    "\n",
    "data = [\n",
    "    {'name':'dog',     'age': 2}, \n",
    "    {'name':'cat',     'age': 6},\n",
    "    {'name':'dolphin', 'age':15},\n",
    "    {'name':'angel',   'age':np.nan},\n",
    "    ]\n",
    "df = pd.DataFrame(data)\n",
    "\n",
    "\n",
    "print(df['name']) # 데이터프레임의 인덱싱은 열(컬럼) 기준 \n",
    "\n",
    "print(\"\\n------------------------\\n\")\n",
    "\n",
    "print(df[:3])     # 데이터프레임의 슬라이싱은 행 기준"
   ]
  },
  {
   "cell_type": "code",
   "execution_count": 105,
   "id": "263b891c",
   "metadata": {},
   "outputs": [
    {
     "name": "stdout",
     "output_type": "stream",
     "text": [
      "      name   age\n",
      "0      dog   2.0\n",
      "1      cat   6.0\n",
      "2  dolphin  15.0\n",
      "3    angel   NaN\n",
      "\n",
      " ------------------------ \n",
      "\n",
      "      name   age\n",
      "0      dog   2.0\n",
      "1      cat   6.0\n",
      "2  dolphin  15.0\n"
     ]
    }
   ],
   "source": [
    "# DataFrame에 행 추가, 삭제\n",
    "\n",
    "df = pd.DataFrame([\n",
    "    {'name':'dog','age':2}\n",
    "    ])\n",
    "\n",
    "\n",
    "# 1 dp.loc\n",
    "df.loc[len(df)] = [\"cat\", 6]\n",
    "\n",
    "\n",
    "# 2 pd.concat \n",
    "newData = [\n",
    "    {\"name\":\"dolphin\",\"age\":15},\n",
    "    {\"name\":\"angel\"}\n",
    "]\n",
    "df = pd.concat([df, pd.DataFrame(newData)], ignore_index = True)\n",
    "\n",
    "print(df)\n",
    "print(\"\\n ------------------------ \\n\")\n",
    "\n",
    "# df.drop\n",
    "\n",
    "df = df.drop(3) # index번째 값 제거\n",
    "print(df)\n",
    "\n"
   ]
  },
  {
   "cell_type": "code",
   "execution_count": null,
   "id": "80cf1d0a",
   "metadata": {},
   "outputs": [
    {
     "name": "stdout",
     "output_type": "stream",
     "text": [
      "  name  age   color    nickname  likes\n",
      "0  dog    2  yellow  yellow_dog  stick\n",
      "1  cat    6   black   black_cat   ball\n",
      "\n",
      " ------------------------ \n",
      "\n",
      "deleted\n",
      "0    yellow_dog\n",
      "1     black_cat\n",
      "Name: nickname, dtype: object\n",
      "\n",
      "\n"
     ]
    },
    {
     "data": {
      "text/html": [
       "<div>\n",
       "<style scoped>\n",
       "    .dataframe tbody tr th:only-of-type {\n",
       "        vertical-align: middle;\n",
       "    }\n",
       "\n",
       "    .dataframe tbody tr th {\n",
       "        vertical-align: top;\n",
       "    }\n",
       "\n",
       "    .dataframe thead th {\n",
       "        text-align: right;\n",
       "    }\n",
       "</style>\n",
       "<table border=\"1\" class=\"dataframe\">\n",
       "  <thead>\n",
       "    <tr style=\"text-align: right;\">\n",
       "      <th></th>\n",
       "      <th>name</th>\n",
       "      <th>age</th>\n",
       "      <th>likes</th>\n",
       "    </tr>\n",
       "  </thead>\n",
       "  <tbody>\n",
       "    <tr>\n",
       "      <th>0</th>\n",
       "      <td>dog</td>\n",
       "      <td>2</td>\n",
       "      <td>stick</td>\n",
       "    </tr>\n",
       "    <tr>\n",
       "      <th>1</th>\n",
       "      <td>cat</td>\n",
       "      <td>6</td>\n",
       "      <td>ball</td>\n",
       "    </tr>\n",
       "  </tbody>\n",
       "</table>\n",
       "</div>"
      ],
      "text/plain": [
       "  name  age  likes\n",
       "0  dog    2  stick\n",
       "1  cat    6   ball"
      ]
     },
     "execution_count": 100,
     "metadata": {},
     "output_type": "execute_result"
    }
   ],
   "source": [
    "#  DataFrame에 열 추가, 삭제\n",
    "\n",
    "df = pd.DataFrame([\n",
    "    {'name':'dog','age':2},\n",
    "    {'name':'cat','age':6}\n",
    "    ])\n",
    "\n",
    "# 1 pd.Series\n",
    "df['color'] = pd.Series(['yellow', 'black'])\n",
    "\n",
    "\n",
    "# 2 column + column \n",
    "df['nickname'] = df['color'] + '_' + df['name']\n",
    "\n",
    "# 3 df.concat\n",
    "newData = pd.DataFrame([\"stick\", \"ball\"], columns=[\"likes\"])\n",
    "df = pd.concat([df, newData], axis=1)\n",
    "\n",
    "print(df)\n",
    "print(\"\\n ------------------------ \\n\")\n",
    "\n",
    "# 4 df.del\n",
    "del df['color']\n",
    "\n",
    "# 5 df.pop (값 반환됨)\n",
    "delColumn = df.pop('nickname')\n",
    "print(\"deleted\")\n",
    "print(delColumn)\n",
    "print(\"\\n\")\n",
    "\n",
    "df"
   ]
  },
  {
   "cell_type": "code",
   "execution_count": null,
   "id": "52266d97",
   "metadata": {},
   "outputs": [],
   "source": []
  }
 ],
 "metadata": {
  "kernelspec": {
   "display_name": "Python 3",
   "language": "python",
   "name": "python3"
  },
  "language_info": {
   "codemirror_mode": {
    "name": "ipython",
    "version": 3
   },
   "file_extension": ".py",
   "mimetype": "text/x-python",
   "name": "python",
   "nbconvert_exporter": "python",
   "pygments_lexer": "ipython3",
   "version": "3.11.9"
  }
 },
 "nbformat": 4,
 "nbformat_minor": 5
}
