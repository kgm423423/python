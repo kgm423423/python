{
 "cells": [
  {
   "cell_type": "code",
   "execution_count": 70,
   "id": "356b98df",
   "metadata": {},
   "outputs": [
    {
     "name": "stdout",
     "output_type": "stream",
     "text": [
      "Index(['호선명', '지하철역', '유임승차', '유임하차', '무임승차', '무임하차', '전체사용자수', '무임승차비율'], dtype='object')\n",
      "\n",
      "\n",
      "92444.0\n",
      "     호선명      지하철역     유임승차     유임하차    무임승차    무임하차   전체사용자수     무임승차비율\n",
      "0    1호선       서울역  1703216  1561398  227099  209611  3701324  11.764867\n",
      "1    1호선        시청   601471   603581  125047  122390  1452489  17.211824\n",
      "2    1호선        종각   919772   901106  150293  139291  2110462  14.045222\n",
      "3    1호선      종로3가   443812   402718  272104  247589  1366223  38.007811\n",
      "4    1호선      종로5가   425522   414838  219746  214623  1274729  34.054997\n",
      "..   ...       ...      ...      ...     ...     ...      ...        ...\n",
      "616  신림선        당곡    96127    93991   38080   37868   266066  28.374079\n",
      "617  신림선        신림    43269    52402   18868   20435   134974  30.365161\n",
      "618  신림선        서원    72639    63913   24530   23428   184510  25.244677\n",
      "619  신림선   서울대벤처타운   199376   181542   62301   63304   506523  23.808359\n",
      "620  신림선  관악산(서울대)    47578    45283   27635   27232   147728  36.742318\n",
      "\n",
      "[558 rows x 8 columns]\n",
      "            지하철역   전체사용자수     무임승차비율\n",
      "7            제기동   920275  52.231962\n",
      "298           용문   104090  51.655680\n",
      "603        삼양사거리   140541  49.895961\n",
      "9            동묘앞   566081  49.625290\n",
      "226         경마공원   252095  47.747576\n",
      "..           ...      ...        ...\n",
      "466          한강진   576125   5.943765\n",
      "574  마곡나루(서울식물원)   602864   5.714499\n",
      "120          서울역   403703   5.175533\n",
      "48          홍대입구  4257873   4.538099\n",
      "572         홍대입구   861021   4.356595\n",
      "\n",
      "[558 rows x 3 columns]\n"
     ]
    }
   ],
   "source": [
    "# subway-data-1.csv 파일을 읽어서 데이터프레임에 저장 (숫자 처리 주의)\n",
    "# 무임승차비율이 가장 높은 역과 낮은 역 조회\n",
    "# 전체 이용객 수가 하위 10% 이하인 역은 제외\n",
    "# 무임승차비율 컬럼 기준으로 정렬\n",
    "import numpy as np\n",
    "import pandas as pd\n",
    "\n",
    "paths = \"../data-files/subway-data-1.csv\"\n",
    "train_df = pd.read_csv(paths, thousands=\",\") \n",
    "# train_df.info()  Null값 없음\n",
    "\n",
    "train_df[\"전체사용자수\"] = train_df.iloc[:, 4:8].sum(axis=1)\n",
    "train_df[\"무임승차비율\"] = train_df[\"무임승차\"]/(train_df[\"무임승차\"]+train_df[\"유임승차\"]) * 100\n",
    "\n",
    "# 작업일시 컬럼 제거\n",
    "train_df = train_df.drop([\"작업일시\",\"사용월\",\"역ID\"], axis=1)\n",
    "print(train_df.columns)\n",
    "print(\"\\n\")\n",
    "\n",
    "# train_df = train_df.sort_values(\"전체사용자수\", ascending=True)\n",
    "# train_df2 = train_df.iloc[int(train_df.shape[0]/10):]\n",
    "\n",
    "# 하위 10% 제거\n",
    "threshold = train_df[\"전체사용자수\"].quantile(0.1)\n",
    "print(threshold)\n",
    "mask_top90 = train_df[\"전체사용자수\"] > threshold\n",
    "train_df2 = train_df[mask_top90]\n",
    "\n",
    "print(train_df2)\n",
    "\n",
    "train_df2 = train_df2.sort_values(\"무임승차비율\", ascending=False)\n",
    "print(train_df2[[\"지하철역\", \"전체사용자수\", \"무임승차비율\"]])\n",
    "# print(train_df2[[\"지하철역\", \"전체사용자수\", \"무임승차비율\"]].head(3))\n",
    "# print(train_df2[[\"지하철역\", \"전체사용자수\", \"무임승차비율\"]].tail(3))\n"
   ]
  },
  {
   "cell_type": "code",
   "execution_count": null,
   "id": "863d8e33",
   "metadata": {},
   "outputs": [],
   "source": []
  }
 ],
 "metadata": {
  "kernelspec": {
   "display_name": "Python 3",
   "language": "python",
   "name": "python3"
  },
  "language_info": {
   "codemirror_mode": {
    "name": "ipython",
    "version": 3
   },
   "file_extension": ".py",
   "mimetype": "text/x-python",
   "name": "python",
   "nbconvert_exporter": "python",
   "pygments_lexer": "ipython3",
   "version": "3.11.9"
  }
 },
 "nbformat": 4,
 "nbformat_minor": 5
}
