{
 "cells": [
  {
   "cell_type": "code",
   "execution_count": 2,
   "id": "8677b21d",
   "metadata": {},
   "outputs": [
    {
     "name": "stdout",
     "output_type": "stream",
     "text": [
      "Requirement already satisfied: numpy in c:\\users\\human\\appdata\\local\\programs\\python\\python311\\lib\\site-packages (2.2.6)\n"
     ]
    },
    {
     "name": "stderr",
     "output_type": "stream",
     "text": [
      "\n",
      "[notice] A new release of pip is available: 24.0 -> 25.1.1\n",
      "[notice] To update, run: python.exe -m pip install --upgrade pip\n"
     ]
    }
   ],
   "source": [
    "!pip install numpy"
   ]
  },
  {
   "cell_type": "code",
   "execution_count": 3,
   "id": "f060ee88",
   "metadata": {},
   "outputs": [
    {
     "name": "stdout",
     "output_type": "stream",
     "text": [
      "[1 2 3] (3,) 1\n",
      "(2, 3) 2\n",
      "[[1 2]\n",
      " [3 4]\n",
      " [5 6]]\n",
      "[[1 2 3 4 5 6]]\n"
     ]
    }
   ],
   "source": [
    "import numpy as np\n",
    "\n",
    "arr  =np.array([1,2,3])\n",
    "arr2 = np.array([1,2,3], dtype='f') # numpy array 만들기\n",
    "\n",
    "print(arr, arr.shape, arr.ndim)\n",
    "\n",
    "arr3 = np.array([[1,2,3],[4,5,6]]) #  2행 3열\n",
    "print(arr3.shape, arr3.ndim) \n",
    "\n",
    "arr3.shape = (3, 2) # 원본 배열 모양 변경\n",
    "print(arr3)\n",
    "print(arr3.reshape(1,6)) # 변경된 새로운 배열을 반환 (원본 변경x)"
   ]
  },
  {
   "cell_type": "code",
   "execution_count": 4,
   "id": "78697d48",
   "metadata": {},
   "outputs": [
    {
     "name": "stdout",
     "output_type": "stream",
     "text": [
      "[[1 1 1 1 1]\n",
      " [1 1 1 1 1]\n",
      " [1 1 1 1 1]]\n",
      "------------------------\n",
      "[[0 0 0 0 0]\n",
      " [0 0 0 0 0]\n",
      " [0 0 0 0 0]]\n",
      "------------------------\n",
      "[[1 1 1 1 1]\n",
      " [1 1 1 1 1]\n",
      " [1 1 1 1 1]]\n",
      "------------------------\n"
     ]
    }
   ],
   "source": [
    "arr4 = np.ones([3,5], dtype=int) # 각 값이 1인 5행 3열 배열 만들기 \n",
    "print(arr4)\n",
    "print(\"------------------------\")\n",
    "\n",
    "arr4 = np.zeros([3,5], dtype=int) # 각 값이 0인 5행 3열 배열 만들기 \n",
    "print(arr4)\n",
    "print(\"------------------------\")\n",
    "\n",
    "arr4 = np.empty([3,5], dtype=int) # 각 값? 0인 5행 3열 배열 만들기 \n",
    "print(arr4)\n",
    "print(\"------------------------\")"
   ]
  },
  {
   "cell_type": "code",
   "execution_count": 5,
   "id": "762ce580",
   "metadata": {},
   "outputs": [
    {
     "name": "stdout",
     "output_type": "stream",
     "text": [
      "range(10, 20, 2)\n",
      "[10, 12, 14, 16, 18]\n",
      "[10 12 14 16 18]\n"
     ]
    }
   ],
   "source": [
    "# numpy arr 생성 함수 \n",
    "\n",
    "arr5 = range(10, 20, 2)     # 반복자 반환\n",
    "arr6 = np.arange(10, 20, 2) # 값 목록 반환\n",
    "\n",
    "print(arr5) # 반복자이기 때문에 반복문으로 각 값을 읽어야함\n",
    "print(list(arr5))\n",
    "print(arr6)"
   ]
  },
  {
   "cell_type": "code",
   "execution_count": 6,
   "id": "1d69f3fd",
   "metadata": {},
   "outputs": [
    {
     "name": "stdout",
     "output_type": "stream",
     "text": [
      "[1.   1.25 1.5  1.75 2.  ]\n",
      "[10. 12. 14. 16. 18.]\n",
      "(array([1.  , 1.25, 1.5 , 1.75, 2.  ]), np.float64(0.25))\n"
     ]
    }
   ],
   "source": [
    "# 값을 쪼개어 배열을 생성하는 함수 \n",
    "\n",
    "arr7 = np.linspace(1.0, 2.0, num=5) # 1.0~2.0 까지 5가지로 쪼개어 만들기\n",
    "print(arr7)\n",
    "\n",
    "arr8 = np.linspace(10, 20, 5, endpoint=False)\n",
    "print(arr8)\n",
    "\n",
    "arr9 = np.linspace(1, 2, 5, retstep=True)\n",
    "print(arr9)"
   ]
  },
  {
   "cell_type": "code",
   "execution_count": 7,
   "id": "f10ce25f",
   "metadata": {},
   "outputs": [
    {
     "name": "stdout",
     "output_type": "stream",
     "text": [
      "[0 1 2 3 4 5 6 7 8 9]\n",
      "[2 4 6]\n",
      "[2 4 6]\n"
     ]
    }
   ],
   "source": [
    "# 인덱싱과 슬라이싱\n",
    "\n",
    "arr10 = np.arange(10)\n",
    "sRule = slice(2,7,2) # 슬라이싱 규칙 만들기 (2에서 7까지 2씩 증가)\n",
    "print(arr10)\n",
    "print(arr10[sRule])\n",
    "print(arr10[2:7:2])"
   ]
  },
  {
   "cell_type": "code",
   "execution_count": 25,
   "id": "d7fdf23e",
   "metadata": {},
   "outputs": [
    {
     "name": "stdout",
     "output_type": "stream",
     "text": [
      "[[1, 2, 3], [4, 5, 6], [7, 8, 9]]\n",
      "[[1 2 3]\n",
      " [4 5 6]\n",
      " [7 8 9]]\n",
      "--------1차원 인덱싱----------\n",
      "[1, 2, 3]\n",
      "[1 2 3]\n",
      "--------1차원 슬라이싱----------\n",
      "[[1, 2, 3], [4, 5, 6]]\n",
      "[[1 2 3]\n",
      " [4 5 6]]\n",
      "--------2차원 인덱싱----------\n",
      "1\n",
      "1\n",
      "--------2차원 슬라이싱----------\n",
      "[1, 2]\n",
      "[1 2]\n",
      "--------2차원 슬라이싱 2--------\n",
      "[[1, 2, 3], [4, 5, 6]]\n",
      "[[1 2]\n",
      " [4 5]]\n",
      "------------------------------\n",
      "[[1, 2, 3], [4, 5, 6]]\n",
      "[[1 2 3]\n",
      " [4 5 6]]\n"
     ]
    }
   ],
   "source": [
    "# 넘파이에서의 인덱싱과 슬라이싱 차이\n",
    "\n",
    "pyList = [ [1,2,3], [4,5,6], [7,8,9] ]\n",
    "npyArr = np.array(pyList)\n",
    "\n",
    "print(pyList)\n",
    "print(npyArr)\n",
    "\n",
    "# 1차원에서 인덱싱과 슬라이싱\n",
    "print(\"--------1차원 인덱싱----------\")\n",
    "print(pyList[0])\n",
    "print(npyArr[0])\n",
    "print(\"--------1차원 슬라이싱----------\")\n",
    "print(pyList[:2])\n",
    "print(npyArr[:2])\n",
    "\n",
    "\n",
    "# 2차원 이상에서 인덱싱과 슬라이싱\n",
    "print(\"--------2차원 인덱싱----------\")\n",
    "print(pyList[0][0])\n",
    "print(npyArr[0, 0])\n",
    "print(\"--------2차원 슬라이싱----------\")\n",
    "print(pyList[0][:2])\n",
    "print(npyArr[0, :2])\n",
    "print(\"--------2차원 슬라이싱 2--------\")\n",
    "print(pyList[:2][:2])\n",
    "print(npyArr[:2, :2])\n",
    "\n",
    "print(\"------------------------------\")\n",
    "print(pyList[:2][:2])\n",
    "print(npyArr[:2][:2])\n",
    "\n"
   ]
  },
  {
   "cell_type": "code",
   "execution_count": null,
   "id": "a00e8370",
   "metadata": {},
   "outputs": [
    {
     "name": "stdout",
     "output_type": "stream",
     "text": [
      "[[ 1  2  3]\n",
      " [ 4  5  6]\n",
      " [ 7  8  9]\n",
      " [10 11 12]]\n",
      "----------- 5보다 큰 값 -----------\n",
      "[[False False False]\n",
      " [False False  True]\n",
      " [ True  True  True]\n",
      " [ True  True  True]]\n",
      "[ 6  7  8  9 10 11 12]\n"
     ]
    }
   ],
   "source": [
    "# 인덱싱과 슬라이싱 3\n",
    "\n",
    "arr = np.array([ [1,2,3], [4,5,6], [7,8,9], [10,11,12] ])\n",
    "\n",
    "print(arr)\n",
    "\n",
    "print(\"----------- 5보다 큰 값 -----------\")\n",
    "print(arr> 5) \n",
    "print(arr[arr > 5]) # 각 값의 위치에 TRUE, FALSE를 기준으로 TRUE인 값만 뽑아내기"
   ]
  },
  {
   "cell_type": "code",
   "execution_count": 36,
   "id": "b2d02cb2",
   "metadata": {},
   "outputs": [
    {
     "name": "stdout",
     "output_type": "stream",
     "text": [
      "[nan  1.  2. nan  3.  4.  5.]\n",
      "[ True False False  True False False False]\n",
      "[1. 2. 3. 4. 5.]\n",
      "[False  True  True False  True  True  True]\n",
      "[1. 2. 3. 4. 5.]\n"
     ]
    }
   ],
   "source": [
    "arr = np.array([np.nan, 1, 2, np.nan,3, 4, 5]) # nan : 결측치\n",
    "print(arr)\n",
    "print(np.isnan(arr)) # nan이면 Ture 아니면 False\n",
    "print(arr[~np.isnan(arr)]) # 결측치를 제외하고 출력 (~는 Not연산)\n",
    "print( np.isfinite(arr))   # nan, inf 이면 False 아니면 True \n",
    "print( arr[np.isfinite(arr)]) "
   ]
  },
  {
   "cell_type": "code",
   "execution_count": 62,
   "id": "e7ca6fcf",
   "metadata": {},
   "outputs": [
    {
     "name": "stdout",
     "output_type": "stream",
     "text": [
      "-------------합연산----------------------\n",
      "[10 20 30 40]  +  [1 2 3 4]  = [11 22 33 44]\n",
      "------------뺴기연산---------------------\n",
      "[10 20 30 40]  -  [1 2 3 4]  = [ 9 18 27 36]\n",
      "-------------곱연산----------------------\n",
      "[10 20 30 40]  x  [1 2 3 4]  = [ 10  40  90 160]\n",
      "------------나눗셈연산-------------------\n",
      "[10 20 30 40]  /  [1 2 3 4]  = [10. 10. 10. 10.]\n"
     ]
    }
   ],
   "source": [
    "# numpy array의 연산자\n",
    "\n",
    "arr11 = np.array([1,2,3,4])\n",
    "arr12 = np.array([10,20,30,40])\n",
    "\n",
    "print(\"-------------합연산----------------------\")\n",
    "print(arr12,\" + \", arr11, \" = \", end=\"\")\n",
    "print(arr12+arr11)\n",
    "print(\"------------뺴기연산---------------------\")\n",
    "print(arr12,\" - \", arr11, \" = \", end=\"\")\n",
    "print(arr12-arr11)\n",
    "print(\"-------------곱연산----------------------\")\n",
    "print(arr12,\" x \", arr11, \" = \", end=\"\")\n",
    "print(arr12*arr11)\n",
    "print(\"------------나눗셈연산-------------------\")\n",
    "print(arr12,\" / \", arr11, \" = \", end=\"\")\n",
    "print(arr12/arr11)"
   ]
  },
  {
   "cell_type": "code",
   "execution_count": 79,
   "id": "50994a33",
   "metadata": {},
   "outputs": [
    {
     "name": "stdout",
     "output_type": "stream",
     "text": [
      "[ [0,0,0], [1,1,1], [2,2,2], [3,3,3] ] + [1,2,3] = \n",
      "---------------------------\n",
      "[0 0 0] + [1 2 3] = [1 2 3]\n",
      "[1 1 1] + [1 2 3] = [2 3 4]\n",
      "[2 2 2] + [1 2 3] = [3 4 5]\n",
      "[3 3 3] + [1 2 3] = [4 5 6]\n",
      "---------------------------\n",
      "[[1 2 3]\n",
      " [2 3 4]\n",
      " [3 4 5]\n",
      " [4 5 6]]\n"
     ]
    }
   ],
   "source": [
    "# 브로드캐스팅\n",
    "arr13 = np.array([ [0,0,0], [1,1,1], [2,2,2], [3,3,3]])\n",
    "arr14 = np.array([1,2,3])\n",
    "\n",
    "print(\"[ [0,0,0], [1,1,1], [2,2,2], [3,3,3] ] + [1,2,3] = \")\n",
    "print(\"---------------------------\")\n",
    "for v in arr13:\n",
    "    print(v, \"+\", arr14,\"=\", arr14+v)\n",
    "\n",
    "print(\"---------------------------\")\n",
    "\n",
    "print(arr13+arr14)"
   ]
  },
  {
   "cell_type": "code",
   "execution_count": 101,
   "id": "b09cd488",
   "metadata": {},
   "outputs": [
    {
     "name": "stdout",
     "output_type": "stream",
     "text": [
      "[[ 0  2  4  6]\n",
      " [ 8 10 12 14]\n",
      " [16 18 20 22]]\n",
      "------------------------------\n",
      "0 2 4 6 8 10 12 14 16 18 20 22 \n",
      "------------------------------\n",
      "size =  12\n",
      "0 2 4 6 8 10 12 14 16 18 20 22 "
     ]
    }
   ],
   "source": [
    "arr15 = np.arange(0,24,2)\n",
    "arr15 = arr15.reshape(3,4)\n",
    "\n",
    "print(arr15)\n",
    "\n",
    "print(\"------------------------------\")\n",
    "for v in np.nditer(arr15): # 2차원 배열을 1차원 처럼 순회\n",
    "    print(v, end=\" \")\n",
    "print()\n",
    "\n",
    "print(\"------------------------------\")\n",
    "print(\"size = \", arr15.size) # 모든 요소의 갯수\n",
    "for v in arr15.reshape(arr15.size):\n",
    "    print(v, end=\" \")\n"
   ]
  },
  {
   "cell_type": "code",
   "execution_count": null,
   "id": "ec2f4afd",
   "metadata": {},
   "outputs": [
    {
     "name": "stdout",
     "output_type": "stream",
     "text": [
      "['1' '2' '3' '4' '5' 'hello']\n"
     ]
    }
   ],
   "source": [
    "# 하나의 numpy array는 같은 자료형의 데이터만 저장 가능\n",
    "\n",
    "arr16 = np.array([1, 2, 3, 4, 5, \"hello\"])\n",
    "\n",
    "print(arr16) # 자동 형변환 \n",
    "\n"
   ]
  }
 ],
 "metadata": {
  "kernelspec": {
   "display_name": "Python 3",
   "language": "python",
   "name": "python3"
  },
  "language_info": {
   "codemirror_mode": {
    "name": "ipython",
    "version": 3
   },
   "file_extension": ".py",
   "mimetype": "text/x-python",
   "name": "python",
   "nbconvert_exporter": "python",
   "pygments_lexer": "ipython3",
   "version": "3.11.9"
  }
 },
 "nbformat": 4,
 "nbformat_minor": 5
}
