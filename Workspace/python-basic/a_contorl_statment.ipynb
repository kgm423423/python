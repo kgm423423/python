{
 "cells": [
  {
   "cell_type": "code",
   "execution_count": null,
   "id": "46183237",
   "metadata": {},
   "outputs": [
    {
     "name": "stdout",
     "output_type": "stream",
     "text": [
      "1 - Got a ture expression value\n",
      "100\n"
     ]
    }
   ],
   "source": [
    "# if문 테스트\n",
    "\n",
    "var1 = 100\n",
    "\n",
    "if var1:  #숫자인 경우 0이면 False 아니면 True\n",
    "    print(\"1 - Got a ture expression value\")\n",
    "    print(var1)\n",
    "var2 = 0\n",
    "if var2:\n",
    "    print(\"2 - Got a ture expression value\")\n",
    "    print(var2)\n",
    "\n",
    "\n",
    "\n"
   ]
  },
  {
   "cell_type": "code",
   "execution_count": null,
   "id": "1cb2b3e0",
   "metadata": {},
   "outputs": [
    {
     "name": "stdout",
     "output_type": "stream",
     "text": [
      "2\n",
      "10 이하\n"
     ]
    }
   ],
   "source": [
    "# if문 테스트2\n",
    "import random # 미리 만들어둔 코드 가져오기\n",
    "\n",
    "a = random.randint(1, 40) # 1 ~ 40 사이의 정수\n",
    "print(a)\n",
    "\n",
    "if a <= 10:\n",
    "    print(\"10 이하\")\n",
    "elif a <= 20:\n",
    "    print(\"10 ~ 20\")\n",
    "elif a <= 30:\n",
    "    print(\"20 ~ 30\")\n",
    "else:\n",
    "    print(\"초과\")\n"
   ]
  },
  {
   "cell_type": "code",
   "execution_count": null,
   "id": "f56c6bbf",
   "metadata": {},
   "outputs": [],
   "source": [
    "money = 2000\n",
    "card = 1\n",
    "\n",
    "if (money >= 3000 and card):\n",
    "    print(\"택시를 타고 가라\")\n",
    "else:\n",
    "    print(\"걸어가라\")"
   ]
  },
  {
   "cell_type": "code",
   "execution_count": null,
   "id": "af43e4f1",
   "metadata": {},
   "outputs": [],
   "source": [
    "pocket = [\"paper\", \"cellphone\", \"money\"]\n",
    "\n",
    "if (\"money\" in pocket):\n",
    "    print(\"택시를 탄다\")\n",
    "else:\n",
    "    print(\"걸어간다\")\n",
    "\n",
    "if (\"money\" not in pocket):\n",
    "     pass #아무 동작도 하지 않지만 구문의 구조를 완성하는데 사용된다\n",
    "else:\n",
    "    print(\"택시를 탄다\")"
   ]
  },
  {
   "cell_type": "code",
   "execution_count": 35,
   "id": "697b6a68",
   "metadata": {},
   "outputs": [
    {
     "name": "stdout",
     "output_type": "stream",
     "text": [
      "나무를 1번 찍었습니다.\n",
      "나무를 2번 찍었습니다.\n",
      "나무를 3번 찍었습니다.\n",
      "나무를 4번 찍었습니다.\n",
      "나무를 5번 찍었습니다.\n",
      "나무를 6번 찍었습니다.\n",
      "나무를 7번 찍었습니다.\n",
      "나무를 8번 찍었습니다.\n",
      "나무를 9번 찍었습니다.\n",
      "나무를 10번 찍었습니다.\n",
      "나무가 넘어갑니다.\n"
     ]
    }
   ],
   "source": [
    "treeHit = 0\n",
    "\n",
    "while treeHit < 10:\n",
    "    treeHit += 1\n",
    "    print(f\"나무를 {treeHit}번 찍었습니다.\")\n",
    "\n",
    "print(\"나무가 넘어갑니다.\")"
   ]
  },
  {
   "cell_type": "code",
   "execution_count": 36,
   "id": "dae0f0c3",
   "metadata": {},
   "outputs": [
    {
     "name": "stdout",
     "output_type": "stream",
     "text": [
      "one\n",
      "two\n",
      "tree\n"
     ]
    }
   ],
   "source": [
    "test_list = [\"one\", \"two\", \"tree\"]\n",
    "for i in test_list:\n",
    "    print(i)"
   ]
  },
  {
   "cell_type": "markdown",
   "id": "73eb786a",
   "metadata": {},
   "source": []
  },
  {
   "cell_type": "code",
   "execution_count": 37,
   "id": "b7eefc5d",
   "metadata": {},
   "outputs": [
    {
     "name": "stdout",
     "output_type": "stream",
     "text": [
      "3\n",
      "7\n",
      "11\n"
     ]
    }
   ],
   "source": [
    "x, y = 10, 20\n",
    "x, y = (10, 20)\n",
    "(x, y) = 10, 20\n",
    "(x, y) =(10, 20)\n",
    "\n",
    "a = [(1,2), (3,4), (5,6)]\n",
    "\n",
    "for first, last in a:\n",
    "    print(first + last)"
   ]
  },
  {
   "cell_type": "code",
   "execution_count": 7,
   "id": "41be09d4",
   "metadata": {},
   "outputs": [
    {
     "name": "stdout",
     "output_type": "stream",
     "text": [
      "0 1 2 3 4 5 6 7 8 9 \n",
      "5 6 7 8 9 \n",
      "0 2 4 6 8 "
     ]
    }
   ],
   "source": [
    "a = range(10)         # 0~9 까지 1씩 증가\n",
    "for i in a:\n",
    "    print(i, end=' ') # 끝에 특정값 출력 (기본은 줄바꿈)\n",
    "\n",
    "print()\n",
    "b = range(5,10)       # 5~9 까지 1씩 증가\n",
    "for i in b:\n",
    "    print(i, end=' ')\n",
    "\n",
    "print()\n",
    "c = range(0,10, 2)    # 0~9 까지 2씩 증가\n",
    "for i in c:\n",
    "    print(i, end=' ')\n"
   ]
  },
  {
   "cell_type": "code",
   "execution_count": 36,
   "id": "444267fe",
   "metadata": {},
   "outputs": [
    {
     "name": "stdout",
     "output_type": "stream",
     "text": [
      "[10, 20, 30, 40, 50, 60, 70, 80, 90, 100]\n",
      "[10, 20, 30, 40, 50, 60, 70, 80, 90, 100]\n",
      "[1, 3, 5, 7, 9]\n",
      "[1, 3, 5, 7, 9]\n"
     ]
    }
   ],
   "source": [
    "a = [1, 2, 3, 4, 5, 6, 7, 8, 9, 10]\n",
    "\n",
    "# a 리스트에 10을 곱한 값으로 새 리스트 만들기\n",
    "b = []\n",
    "for i in a:\n",
    "    b.append(i*10)\n",
    "print(b)\n",
    "\n",
    "b2 = [ i*10 for i in a]\n",
    "print(b2)\n",
    "\n",
    "# a 리스트에 홀수 값만 뽑아 새 리스트 만들기\n",
    "\n",
    "c = []\n",
    "for i in a:\n",
    "    if (i % 2 == 1):\n",
    "        c.append(i)\n",
    "print(c)\n",
    "\n",
    "c2 = [ i for i in a if i % 2 == 1 ]\n",
    "print(c2)\n"
   ]
  },
  {
   "cell_type": "code",
   "execution_count": 40,
   "id": "ff75f136",
   "metadata": {},
   "outputs": [
    {
     "name": "stdout",
     "output_type": "stream",
     "text": [
      "1\n",
      "3\n",
      "5\n",
      "\n",
      "1\n",
      "2\n",
      "3\n",
      "4\n",
      "5\n",
      "else 실행\n"
     ]
    }
   ],
   "source": [
    "# break and continue\n",
    "\n",
    "# 홀수만 출력\n",
    "# 7이면 종료\n",
    "for n in range(1, 11): #1~10 \n",
    "    if (n % 2 == 1):\n",
    "        if (n == 7): break\n",
    "        print(n)\n",
    "else:\n",
    "    print(\"else 실행\")\n",
    "print()\n",
    "\n",
    "for n in [1, 2, 3, 4, 5]:\n",
    "    print(n)\n",
    "else:\n",
    "    print(\"else 실행\") #반복문이 전부 실행되면 else부분이 실행됨\n",
    "    "
   ]
  }
 ],
 "metadata": {
  "kernelspec": {
   "display_name": "Python 3",
   "language": "python",
   "name": "python3"
  },
  "language_info": {
   "codemirror_mode": {
    "name": "ipython",
    "version": 3
   },
   "file_extension": ".py",
   "mimetype": "text/x-python",
   "name": "python",
   "nbconvert_exporter": "python",
   "pygments_lexer": "ipython3",
   "version": "3.11.9"
  }
 },
 "nbformat": 4,
 "nbformat_minor": 5
}
