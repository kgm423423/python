{
 "cells": [
  {
   "cell_type": "code",
   "execution_count": 19,
   "id": "fad2bf65",
   "metadata": {},
   "outputs": [],
   "source": [
    "import sys"
   ]
  },
  {
   "cell_type": "code",
   "execution_count": 20,
   "id": "884ea0ef",
   "metadata": {},
   "outputs": [],
   "source": [
    "# 변수 만들기 + 데이터 저장 \n",
    "a = 10       # 정수\n",
    "b = 11.11    # 실수\n",
    "c = \"hello\"  # 문자열\n",
    "d = True     # 논리\n",
    "e = None     # 존재하지 않는 값\n"
   ]
  },
  {
   "cell_type": "code",
   "execution_count": 21,
   "id": "3da26e42",
   "metadata": {},
   "outputs": [
    {
     "name": "stdout",
     "output_type": "stream",
     "text": [
      "10\n",
      "11.11\n",
      "hello\n",
      "True\n",
      "None\n"
     ]
    }
   ],
   "source": [
    "# 변수에 저장된 값 읽기\n",
    "print(a)\n",
    "print(b)\n",
    "print(c)\n",
    "print(d)\n",
    "print(e)\n"
   ]
  },
  {
   "cell_type": "code",
   "execution_count": 22,
   "id": "90d1c8e4",
   "metadata": {},
   "outputs": [
    {
     "name": "stdout",
     "output_type": "stream",
     "text": [
      "a type : <class 'int'> size : 28\n",
      "b type : <class 'float'> size : 24\n",
      "c type : <class 'str'> size : 54\n",
      "d type : <class 'bool'> size : 28\n",
      "e type : <class 'NoneType'> size : 16\n"
     ]
    }
   ],
   "source": [
    "# 각 변수의 자료형 확인\n",
    "\n",
    "# print(type(a))\n",
    "# print(type(b))\n",
    "# print(type(c))\n",
    "# print(type(d))\n",
    "# print(type(e))\n",
    "\n",
    "print(\"a type : {0} size : {1}\".format(type(a),sys.getsizeof(a)))\n",
    "print(\"b type : {0} size : {1}\".format(type(b),sys.getsizeof(b)))\n",
    "print(\"c type : {0} size : {1}\".format(type(c),sys.getsizeof(c)))\n",
    "print(\"d type : {0} size : {1}\".format(type(d),sys.getsizeof(d)))\n",
    "print(\"e type : {0} size : {1}\".format(type(e),sys.getsizeof(e)))"
   ]
  },
  {
   "cell_type": "code",
   "execution_count": 23,
   "id": "276849b1",
   "metadata": {},
   "outputs": [
    {
     "name": "stdout",
     "output_type": "stream",
     "text": [
      "True\n",
      "True\n"
     ]
    }
   ],
   "source": [
    "a = 3 # a는 3이 저장된 변수 (객체)\n",
    "b = 3 # b는 3이 저장된 변수 (객체)\n",
    "\n",
    "print(a == b) # a와 3이 같은지 비교\n",
    "print(a is b)"
   ]
  },
  {
   "cell_type": "code",
   "execution_count": 24,
   "id": "8a852873",
   "metadata": {},
   "outputs": [
    {
     "data": {
      "text/plain": [
       "(100, 200, 'hello')"
      ]
     },
     "execution_count": 24,
     "metadata": {},
     "output_type": "execute_result"
    }
   ],
   "source": [
    "# 한번에 여러개의 값을 여러변수의 저장\n",
    "a, b, c = (100, 200, \"hello\")\n",
    "\n",
    "a, b, c # 노트북에서 마지작 실행문은 출력문"
   ]
  },
  {
   "cell_type": "code",
   "execution_count": 25,
   "id": "dd7a68f5",
   "metadata": {},
   "outputs": [
    {
     "name": "stdout",
     "output_type": "stream",
     "text": [
      "10\n"
     ]
    }
   ],
   "source": [
    "# 변수 제거\n",
    "a = 10\n",
    "print(a)\n",
    "del a\n",
    "# print(a)  오류 "
   ]
  },
  {
   "cell_type": "code",
   "execution_count": 26,
   "id": "b1353b6b",
   "metadata": {},
   "outputs": [
    {
     "name": "stdout",
     "output_type": "stream",
     "text": [
      "255 31\n",
      "42400000000.0\n",
      "424.0\n"
     ]
    }
   ],
   "source": [
    "# 16진수 표현\n",
    "\n",
    "a = 0xFF\n",
    "b = 0x1F\n",
    "print(a, b)\n",
    "\n",
    "# 지수 표기법\n",
    "c= 4.24E10\n",
    "print(c)\n",
    "c= 4.24E2\n",
    "print(c)"
   ]
  },
  {
   "cell_type": "code",
   "execution_count": 27,
   "id": "0b1e5ff8",
   "metadata": {},
   "outputs": [
    {
     "name": "stdout",
     "output_type": "stream",
     "text": [
      "11\n",
      "10 10.0 12.12\n",
      "200200\n",
      "400\n"
     ]
    }
   ],
   "source": [
    "# 형변환\n",
    "\n",
    "a = 11.11\n",
    "b = 10\n",
    "c = \"12.12\"\n",
    "d = \"200\"\n",
    "\n",
    "print(int(a))\n",
    "print(b, float(b), float(c))\n",
    "print (d + d)\n",
    "print (int(d) + int(d))"
   ]
  },
  {
   "cell_type": "code",
   "execution_count": 28,
   "id": "c8c607bc",
   "metadata": {},
   "outputs": [
    {
     "name": "stdout",
     "output_type": "stream",
     "text": [
      "helloJohn Doe\n",
      "hellohellohellohellohello\n"
     ]
    }
   ],
   "source": [
    "# 문자열 연산\n",
    "\n",
    "greeting = \"hello\" + \"John Doe\"\n",
    "print(greeting)\n",
    "\n",
    "print(\"hello\" * 5)"
   ]
  },
  {
   "cell_type": "code",
   "execution_count": 29,
   "id": "1bb47fa8",
   "metadata": {},
   "outputs": [
    {
     "name": "stdout",
     "output_type": "stream",
     "text": [
      "short\n",
      "Life is too short, you need python\n"
     ]
    },
    {
     "data": {
      "text/plain": [
       "34"
      ]
     },
     "execution_count": 29,
     "metadata": {},
     "output_type": "execute_result"
    }
   ],
   "source": [
    "# 문자열 인덱싱\n",
    "\n",
    "a = \"Life is too short, you need python\"\n",
    "print(a[12:17])\n",
    "print(a[:])\n",
    "len(a) # 문자갯수 반환"
   ]
  },
  {
   "cell_type": "code",
   "execution_count": 30,
   "id": "dc54c735",
   "metadata": {},
   "outputs": [
    {
     "name": "stdout",
     "output_type": "stream",
     "text": [
      "a = 10\n",
      "b = 20\n",
      "a = 10 b = 20 c = 30\n",
      "a = 10 b = 20 c = 30\n",
      "a = 10 b = 20 c = 30\n"
     ]
    }
   ],
   "source": [
    "# 문자열과 데이터의 결합\n",
    "a = 10\n",
    "b = 20\n",
    "c = a+b\n",
    "\n",
    "print (\"a = \" + str(a))\n",
    "print (\"b = \" + str(b))\n",
    "\n",
    "print(\"a = %d b = %d c = %d\" % (a, b, c))\n",
    "print(\"a = {0} b = {1} c = {2}\".format(a, b, c))\n",
    "print(f\"a = {a} b = {b} c = {c}\")"
   ]
  },
  {
   "cell_type": "code",
   "execution_count": 31,
   "id": "06382206",
   "metadata": {},
   "outputs": [
    {
     "name": "stdout",
     "output_type": "stream",
     "text": [
      "b 2:  z : 0\n"
     ]
    }
   ],
   "source": [
    "a = \"hobby\"\n",
    "bCount = a.count(\"b\")\n",
    "zCount = a.count(\"z\")\n",
    "print(f\"b {bCount}:  z : {zCount}\") #문자열 안에  값이 몇개 들어있는지 조회"
   ]
  },
  {
   "cell_type": "code",
   "execution_count": 32,
   "id": "0c59d51e",
   "metadata": {},
   "outputs": [
    {
     "name": "stdout",
     "output_type": "stream",
     "text": [
      "hello john doe\n",
      "hello john doe\n"
     ]
    },
    {
     "data": {
      "text/plain": [
       "'hello=john=doe'"
      ]
     },
     "execution_count": 32,
     "metadata": {},
     "output_type": "execute_result"
    }
   ],
   "source": [
    "a = [\"hello\", \"john\", \"doe\"]\n",
    "\n",
    "print(\"hello\", \"john\", \"doe\")\n",
    "\n",
    "print(\" \".join(a))\n",
    "\"=\".join(a)"
   ]
  },
  {
   "cell_type": "code",
   "execution_count": 33,
   "id": "1c9c31e4",
   "metadata": {},
   "outputs": [
    {
     "name": "stdout",
     "output_type": "stream",
     "text": [
      "Life is too short\n"
     ]
    }
   ],
   "source": [
    "a = 'Life is too short'\n",
    "a.replace(\"Life\", \"Your leg\")\n",
    "\n",
    "print(a)"
   ]
  },
  {
   "cell_type": "code",
   "execution_count": 34,
   "id": "7dc414b7",
   "metadata": {},
   "outputs": [
    {
     "data": {
      "text/plain": [
       "['a', 'b', 'c', 'd']"
      ]
     },
     "execution_count": 34,
     "metadata": {},
     "output_type": "execute_result"
    }
   ],
   "source": [
    "a = \"a:b:c:d\"\n",
    "a.split(':')"
   ]
  },
  {
   "cell_type": "code",
   "execution_count": 35,
   "id": "e4c2321f",
   "metadata": {},
   "outputs": [
    {
     "name": "stdout",
     "output_type": "stream",
     "text": [
      "3.3333333333333335\n",
      "3\n",
      "1\n"
     ]
    }
   ],
   "source": [
    "print(10 / 3) # 소수점 이하 연산 \n",
    "print(10 // 3) # 몫만 계산\n",
    "print(10 % 3) # 나머지 계산"
   ]
  },
  {
   "cell_type": "code",
   "execution_count": null,
   "id": "2ed7d5f9",
   "metadata": {},
   "outputs": [],
   "source": []
  },
  {
   "cell_type": "code",
   "execution_count": 36,
   "id": "826ffd63",
   "metadata": {},
   "outputs": [
    {
     "name": "stdout",
     "output_type": "stream",
     "text": [
      "Life is too short!!!\n",
      "you need \"python\"\n"
     ]
    }
   ],
   "source": [
    "\"\"\"Hello,\n",
    "This is my test string\n",
    "    abc\n",
    "        def\"\"\"\n",
    "\n",
    "multiline = \"Life is too short!!!\\nyou need \\\"python\\\"\"\n",
    "print(multiline)"
   ]
  },
  {
   "cell_type": "code",
   "execution_count": 46,
   "id": "ecec1c8c",
   "metadata": {},
   "outputs": [
    {
     "name": "stdout",
     "output_type": "stream",
     "text": [
      "[4, 5, 6, 7]\n",
      "[4, 5, 6, 7, 8, 9, 10]\n",
      "[1, 2, 3, 4, 5, 6, 7]\n",
      "[1, 2, 3, 4, 5, 6, 7, 8, 9, 10, 10, 20, 30, 40, 50]\n",
      "[1, 2, 3, 4, 5, 6, 7, 8, 9, 10, 1, 2, 3, 4, 5, 6, 7, 8, 9, 10]\n",
      "[1, 2, 3, 4, 5, 6, 7, 8, 9, 10]\n",
      "[1, 2, 3, 4, 5, 100, 7, 8, 9, 10]\n",
      "[1, 2, 3, 4, 5, 100, 10, 20, 30, 40, 50, 9, 10]\n"
     ]
    }
   ],
   "source": [
    "l2 = [1,2,3,4,5,6,7,8,9,10]\n",
    "l3 = [10,20,30,40,50]\n",
    "\n",
    "\n",
    "print(l2[3:7])\n",
    "print(l2[3:])\n",
    "print(l2[:7])\n",
    "\n",
    "# 리스트 연산\n",
    "print( l2 + l3) # 두 리스트의 합은 두 리스트를 결합한 새 리스트를 생성\n",
    "print( l2*2 ) # 리스트의 스칼라 값의 곱은 리스트의 반복\n",
    "\n",
    "# 리스트 값 변경\n",
    "l4 = l2.copy() # l2를 복사해서 l4 만들기\n",
    "\n",
    "print(l4)\n",
    "l4[5] = 100 # 단일 값 변경\n",
    "print(l4)\n",
    "l4[6:8] = [10, 20, 30, 40, 50] # (7, 8)을 (10, 20, 30, 40, 50)으로 변경\n",
    "print(l4)\n",
    "\n"
   ]
  },
  {
   "cell_type": "code",
   "execution_count": 47,
   "id": "8d43c06a",
   "metadata": {},
   "outputs": [
    {
     "name": "stdout",
     "output_type": "stream",
     "text": [
      "[1, 2, 3, 4, 5, 7, 8, 9, 10]\n",
      "[1, 2, 3, 7, 8, 9, 10]\n"
     ]
    }
   ],
   "source": [
    "# 리스트의 요소 삭제\n",
    "\n",
    "l5 = l2.copy()\n",
    "\n",
    "del l5[5] # Index5 위치의 데이터 삭제\n",
    "print(l5)\n",
    "\n",
    "l5[3:5] = [] # 3, 4번 위치의 데이터 삭제\n",
    "print(l5)\n"
   ]
  },
  {
   "cell_type": "code",
   "execution_count": 54,
   "id": "22ced75e",
   "metadata": {},
   "outputs": [
    {
     "name": "stdout",
     "output_type": "stream",
     "text": [
      "[1, 2, 3]\n",
      "[1, 2, 3, 4]\n",
      "[1, 10, 2, 3, 4]\n",
      "[1, 2, 3, 4, 10]\n",
      "[10, 4, 3, 2, 1]\n",
      "[1, 2, 3, 4, 10]\n",
      "[1, 2, 4, 10]\n",
      "[1, 2, 4, 10, 9, 8, 7]\n",
      "[1, 2, 4, 10, 9, 8, 7]\n"
     ]
    }
   ],
   "source": [
    "a = [1, 2, 3]\n",
    "print(a)\n",
    "a.append(4) # 목록 뒤에 값 추가\n",
    "print(a)\n",
    "\n",
    "a.insert(1, 10) # 1번째 위치에 10 추가\n",
    "print(a)\n",
    "\n",
    "a.sort()           # 리스트를 오름차순 정렬\n",
    "print(a)\n",
    "a.sort(reverse=True) # 리스트를 내림차순 정렬\n",
    "print(a)\n",
    "\n",
    "a.reverse() #리스트의 위치를 역순으로 변경\n",
    "print(a)\n",
    "\n",
    "a.remove(3) # 요소 3을 찾아서 제거\n",
    "print(a)\n",
    "\n",
    "print(a + [9, 8, 7]) # 원본이 바뀌지 않음\n",
    "\n",
    "a.extend([9, 8, 7]) # 원본이 바뀜\n",
    "print(a)"
   ]
  },
  {
   "cell_type": "code",
   "execution_count": 55,
   "id": "a17ddae0",
   "metadata": {},
   "outputs": [
    {
     "name": "stdout",
     "output_type": "stream",
     "text": [
      "() <class 'tuple'>\n",
      "1 <class 'int'>\n",
      "(1, 2, 3) <class 'tuple'>\n"
     ]
    }
   ],
   "source": [
    "# 튜플 만들기 \n",
    "\n",
    "t1 = () # 요소가 없는 튜플\n",
    "print(t1, type(t1))\n",
    "\n",
    "t2 = (1)\n",
    "print(t2, type(t2)) # 연산자 우선순위로 계산됨\n",
    "\n",
    "t3 = (1, 2, 3)\n",
    "print(t3, type(t3))\n",
    "\n",
    "\n",
    "\n",
    "\n"
   ]
  },
  {
   "cell_type": "code",
   "execution_count": null,
   "id": "253bc8bd",
   "metadata": {},
   "outputs": [],
   "source": [
    "# 튜플은 읽기 전용\n",
    "\n",
    "t4 = (1, 2, 3, 4)\n",
    "# t4[0] = 100\n",
    "# del t4[0]  튜플의 요소는 변경불가"
   ]
  },
  {
   "cell_type": "code",
   "execution_count": null,
   "id": "01d2f2b8",
   "metadata": {},
   "outputs": [
    {
     "name": "stdout",
     "output_type": "stream",
     "text": [
      "(1, 2, 3, 4, 5) [1, 2, 3, 4, 5] [1, 2, 3, 4, 5] (1, 2, 3, 4, 5)\n"
     ]
    }
   ],
   "source": [
    "t5 = (1, 2, 3, 4, 5)\n",
    "l5 = [v for v in t5] # tuple을 해체해서 list로 재구성\n",
    "l6 = list(t5)  # tuple -> list 변경\n",
    "t6 = tuple(l6) # tuple <- list 변경\n",
    "\n",
    "print(t5, l5, l6, t6)"
   ]
  },
  {
   "cell_type": "code",
   "execution_count": 76,
   "id": "d7681829",
   "metadata": {},
   "outputs": [
    {
     "name": "stdout",
     "output_type": "stream",
     "text": [
      "<class 'dict'> <class 'dict'>\n",
      "{} {'name': 'John Doe', 'email': 'johndoe@example.com', 'age': 32}\n",
      "{'name': 'John Doe', 'email': 'johndoe@example.com', 'age': 32, 'phone': '010-1234-5678'}\n",
      "{'name': 'John Doe', 'email': 'johndoe@human.com', 'age': 32, 'phone': '010-1234-5678'}\n",
      "{'name': 'Jane Doe', 'email': 'johndoe@human.com', 'age': 32, 'phone': '010-1234-5678', 'gender': 'female'}\n",
      "32\n",
      "Jane Doe\n",
      "None\n",
      "None exec\n",
      "dict_keys(['name', 'email', 'age', 'phone', 'gender'])\n",
      "dict_values(['Jane Doe', 'johndoe@human.com', 32, '010-1234-5678', 'female'])\n",
      "dict_items([('name', 'Jane Doe'), ('email', 'johndoe@human.com'), ('age', 32), ('phone', '010-1234-5678'), ('gender', 'female')])\n",
      "True\n",
      "False\n",
      "{}\n"
     ]
    }
   ],
   "source": [
    "# 딕셔너리 만들기\n",
    "\n",
    "d1 = {}\n",
    "d2 = { \"name\" : \"John Doe\", \"email\" : \"johndoe@example.com\", \"age\" : 32}\n",
    "\n",
    "print(type(d1), type(d2))\n",
    "print(d1, d2)\n",
    "\n",
    "# 딕셔너리 값 추가\n",
    "d2[\"phone\"] = \"010-1234-5678\"\n",
    "print(d2)\n",
    "\n",
    "# 딕셔너리 값 변경\n",
    "d2[\"email\"] = \"johndoe@human.com\"\n",
    "print(d2)\n",
    "\n",
    "# 딕셔너리의 값 추가, 변경\n",
    "d2.update({\"name\" : \"Jane Doe\", \"gender\" : \"female\"})\n",
    "print(d2)\n",
    "\n",
    "# 딕셔너리 값 읽기 1\n",
    "print(d2[\"age\"])\n",
    "# print(d2[\"a\"]) #없는 키를 사용하면 오류\n",
    "\n",
    "# 딕셔너리 값 읽기 2\n",
    "print(d2.get(\"name\"))\n",
    "print(d2.get(\"ㅁ\")) #없는 키를 사용하면 None 출력\n",
    "print(d2.get(\"ㅁ\"), \"exec\") #없는 키를 사용하면 지정값 출력\n",
    "\n",
    "# 딕셔너리 키 목록 조회\n",
    "print(d2.keys())\n",
    "\n",
    "# 딕셔너리 값 목록 조회\n",
    "\n",
    "print(d2.values())\n",
    "\n",
    "# 딕셔너리 키-값 쌍 목록 조회\n",
    "print(d2.items())\n",
    "\n",
    "# 딕셔너리에 키가 있는지 확인\n",
    "print(\"name\" in d2)\n",
    "print(\"None\" in d2)\n",
    "\n",
    "#딕셔너리 모든 내용 제거\n",
    "d2.clear()\n",
    "print(d2)"
   ]
  }
 ],
 "metadata": {
  "kernelspec": {
   "display_name": "Python 3",
   "language": "python",
   "name": "python3"
  },
  "language_info": {
   "codemirror_mode": {
    "name": "ipython",
    "version": 3
   },
   "file_extension": ".py",
   "mimetype": "text/x-python",
   "name": "python",
   "nbconvert_exporter": "python",
   "pygments_lexer": "ipython3",
   "version": "3.11.9"
  }
 },
 "nbformat": 4,
 "nbformat_minor": 5
}
