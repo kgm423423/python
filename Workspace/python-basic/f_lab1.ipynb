{
 "cells": [
  {
   "cell_type": "code",
   "execution_count": 10,
   "id": "a3d6fca7",
   "metadata": {},
   "outputs": [
    {
     "name": "stdout",
     "output_type": "stream",
     "text": [
      "h\n",
      "1\n",
      "<class 'str'> <class 'str'>\n",
      "<class 'int'>\n"
     ]
    }
   ],
   "source": [
    "#사용자 입력 처리\n",
    "name =  input(\"이름을 입력하세요\") #메시지 출력 -> 사용자 입력 -> 입력 내용을 name변수에 저장\n",
    "print(name)\n",
    "age = input(\"나이를 입력하세요\")\n",
    "print(age)\n",
    "\n",
    "print(type(name), type(age)) #input 함수로 입력 받은 데이터는 모두 문자열(str)\n",
    "age2 = int(age)\n",
    "print(type(age2))"
   ]
  },
  {
   "cell_type": "code",
   "execution_count": 10,
   "id": "205a1015",
   "metadata": {},
   "outputs": [
    {
     "name": "stdout",
     "output_type": "stream",
     "text": [
      "3 x 1 = 3\n",
      "3 x 2 = 6\n",
      "3 x 3 = 9\n",
      "3 x 4 = 12\n",
      "3 x 5 = 15\n",
      "3 x 6 = 18\n",
      "3 x 7 = 21\n",
      "3 x 8 = 24\n",
      "3 x 9 = 27\n"
     ]
    }
   ],
   "source": [
    "# 1 ~ 9 숫자 입력\n",
    "# 입력된 숫자에 해당되는 구구단 출력\n",
    "\n",
    "n = 0\n",
    "while True:\n",
    "    try: \n",
    "        n = int(input(\"1 ~ 9 사이의 숫자를 입력하세요.\"))\n",
    "        if (n < 1 or n > 9): raise Exception()\n",
    "    except: continue\n",
    "    break\n",
    "\n",
    "for i in range(1 , 10):\n",
    "    print(f\"{n} x {i} = {n*i}\")\n",
    "\n",
    "\n"
   ]
  }
 ],
 "metadata": {
  "kernelspec": {
   "display_name": "Python 3",
   "language": "python",
   "name": "python3"
  },
  "language_info": {
   "codemirror_mode": {
    "name": "ipython",
    "version": 3
   },
   "file_extension": ".py",
   "mimetype": "text/x-python",
   "name": "python",
   "nbconvert_exporter": "python",
   "pygments_lexer": "ipython3",
   "version": "3.11.9"
  }
 },
 "nbformat": 4,
 "nbformat_minor": 5
}
