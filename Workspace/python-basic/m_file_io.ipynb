{
 "cells": [
  {
   "cell_type": "code",
   "execution_count": null,
   "id": "43f41a54",
   "metadata": {},
   "outputs": [],
   "source": [
    "f = open(\"data-files/test.txt\",  # window에서는 / 대신 \\\\\n",
    "         'wt',                   # w:읽기 r:쓰기 t:text b:binary\n",
    "           encoding=\"UTF-8\")     # 문자 코드 시스템 \n",
    "\n",
    "#파일에 데이터 쓰기\n",
    "f.write(\"파일에 쓰는 데이터 1\\n\")\n",
    "f.write(\"파일에 쓰는 데이터 2\\n\")\n",
    "f.write(\"파일에 쓰는 데이터 3\\n\")\n",
    "\n",
    "# 열린 파일은 반드시 닫기 처리 필요\n",
    "f.close()\n",
    "\n"
   ]
  },
  {
   "cell_type": "code",
   "execution_count": null,
   "id": "d3bb5320",
   "metadata": {},
   "outputs": [],
   "source": [
    "with open(\"data-files/test.txt\", 'w', encoding=\"UTF-8\") as f: # with블록을 벗어나면 자동으로 파일이 닫힘\n",
    "    f.write(\"파일에 쓰는 데이터 1\\n\")\n",
    "    f.write(\"파일에 쓰는 데이터 2\\n\")\n",
    "    f.write(\"파일에 쓰는 데이터 3\\n\")"
   ]
  },
  {
   "cell_type": "code",
   "execution_count": null,
   "id": "13c67c62",
   "metadata": {},
   "outputs": [
    {
     "name": "stdout",
     "output_type": "stream",
     "text": [
      "파일에 쓰는 데이터 1\n",
      "파일에 쓰는 데이터 2\n",
      "파일에 쓰는 데이터 3\n",
      "\n"
     ]
    }
   ],
   "source": [
    "with open(\"data-files/test.txt\", \"rt\", encoding=\"UTF-8\") as f:\n",
    "    contents = f.read() # 파일 전체 읽기\n",
    "    print(contents)"
   ]
  },
  {
   "cell_type": "code",
   "execution_count": 18,
   "id": "690ada53",
   "metadata": {},
   "outputs": [
    {
     "name": "stdout",
     "output_type": "stream",
     "text": [
      "파일에 쓰는 데이터 1\n",
      "파일에 쓰는 데이터 2\n",
      "파일에 쓰는 데이터 3\n"
     ]
    }
   ],
   "source": [
    "with open(\"data-files/test.txt\", \"rt\", encoding=\"UTF-8\") as f:\n",
    "    while True:\n",
    "        contents = f.readline() # 한 줄씩 읽기\n",
    "        if (contents == \"\"): break\n",
    "        print(contents, end=\"\")"
   ]
  },
  {
   "cell_type": "code",
   "execution_count": 21,
   "id": "6796f71e",
   "metadata": {},
   "outputs": [
    {
     "name": "stdout",
     "output_type": "stream",
     "text": [
      "['파일에 쓰는 데이터 1\\n', '파일에 쓰는 데이터 2\\n', '파일에 쓰는 데이터 3\\n']\n",
      "파일에 쓰는 데이터 1\n",
      "파일에 쓰는 데이터 2\n",
      "파일에 쓰는 데이터 3\n"
     ]
    }
   ],
   "source": [
    "with open(\"data-files/test.txt\", \"rt\", encoding=\"UTF-8\") as f:\n",
    "    contents2 = f.readlines() # 파일 전체 읽기 + 각 줄별로 나누어서 리스트 반환\n",
    "    print(contents2)\n",
    "    for c in contents2:\n",
    "        print(c, end=\"\")"
   ]
  }
 ],
 "metadata": {
  "kernelspec": {
   "display_name": "Python 3",
   "language": "python",
   "name": "python3"
  },
  "language_info": {
   "codemirror_mode": {
    "name": "ipython",
    "version": 3
   },
   "file_extension": ".py",
   "mimetype": "text/x-python",
   "name": "python",
   "nbconvert_exporter": "python",
   "pygments_lexer": "ipython3",
   "version": "3.11.9"
  }
 },
 "nbformat": 4,
 "nbformat_minor": 5
}
