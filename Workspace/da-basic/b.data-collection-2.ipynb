{
 "cells": [
  {
   "cell_type": "code",
   "execution_count": null,
   "id": "a9801bb4",
   "metadata": {},
   "outputs": [],
   "source": [
    "# 웹크롤링 라이브러리 준비\n",
    "from urllib import request \n",
    "import requests\n",
    "from bs4 import BeautifulSoup\n",
    "import numpy as np\n",
    "import pandas as pd\n",
    "import re\n"
   ]
  },
  {
   "cell_type": "code",
   "execution_count": 44,
   "id": "f2767b78",
   "metadata": {},
   "outputs": [
    {
     "name": "stderr",
     "output_type": "stream",
     "text": [
      "C:\\Users\\human\\AppData\\Local\\Temp\\ipykernel_6940\\2017831385.py:4: FutureWarning: Passing literal html to 'read_html' is deprecated and will be removed in a future version. To read from a literal string, wrap it in a 'StringIO' object.\n",
      "  pop_df = pd.read_html(response.text)\n"
     ]
    }
   ],
   "source": [
    "response = requests.get(\"http://worldometers.info/world-population/population-by-country/\")\n",
    "html = response.content.decode('utf-8')\n",
    "soup = BeautifulSoup(html, 'html.parser')\n",
    "pop_df = pd.read_html(response.text)"
   ]
  },
  {
   "cell_type": "code",
   "execution_count": 71,
   "id": "bbdad199",
   "metadata": {},
   "outputs": [
    {
     "name": "stdout",
     "output_type": "stream",
     "text": [
      "1\n",
      "234\n"
     ]
    }
   ],
   "source": [
    "tables = soup.select('table')\n",
    "print( len(tables) )\n",
    "\n",
    "\n",
    "trs = soup.select('table tr')\n",
    "print( len(trs) )\n",
    "\n",
    "data = []\n",
    "for idx, tr in enumerate(trs):\n",
    "    row = []\n",
    "    if idx == 0:\n",
    "        tds = tr.select('th')\n",
    "    else:\n",
    "        tds = tr.select('td')\n",
    "    \n",
    "    for td in tds:\n",
    "        row.append(td.get_text(strip=True))\n",
    "    data.append(row)"
   ]
  },
  {
   "cell_type": "code",
   "execution_count": null,
   "id": "78adf017",
   "metadata": {},
   "outputs": [
    {
     "data": {
      "text/html": [
       "<div>\n",
       "<style scoped>\n",
       "    .dataframe tbody tr th:only-of-type {\n",
       "        vertical-align: middle;\n",
       "    }\n",
       "\n",
       "    .dataframe tbody tr th {\n",
       "        vertical-align: top;\n",
       "    }\n",
       "\n",
       "    .dataframe thead th {\n",
       "        text-align: right;\n",
       "    }\n",
       "</style>\n",
       "<table border=\"1\" class=\"dataframe\">\n",
       "  <thead>\n",
       "    <tr style=\"text-align: right;\">\n",
       "      <th></th>\n",
       "      <th>#</th>\n",
       "      <th>Country (ordependency)</th>\n",
       "      <th>Population(2025)</th>\n",
       "      <th>YearlyChange</th>\n",
       "      <th>NetChange</th>\n",
       "      <th>Density(P/Km²)</th>\n",
       "      <th>Land Area(Km²)</th>\n",
       "      <th>Migrants(net)</th>\n",
       "      <th>Fert.Rate</th>\n",
       "      <th>MedianAge</th>\n",
       "      <th>UrbanPop %</th>\n",
       "      <th>WorldShare</th>\n",
       "    </tr>\n",
       "  </thead>\n",
       "  <tbody>\n",
       "    <tr>\n",
       "      <th>0</th>\n",
       "      <td>1</td>\n",
       "      <td>India</td>\n",
       "      <td>1,463,865,525</td>\n",
       "      <td>0.89%</td>\n",
       "      <td>12,929,734</td>\n",
       "      <td>492</td>\n",
       "      <td>2,973,190</td>\n",
       "      <td>−495,753</td>\n",
       "      <td>1.94</td>\n",
       "      <td>28.8</td>\n",
       "      <td>37.1%</td>\n",
       "      <td>17.78%</td>\n",
       "    </tr>\n",
       "    <tr>\n",
       "      <th>1</th>\n",
       "      <td>2</td>\n",
       "      <td>China</td>\n",
       "      <td>1,416,096,094</td>\n",
       "      <td>−0.23%</td>\n",
       "      <td>−3,225,184</td>\n",
       "      <td>151</td>\n",
       "      <td>9,388,211</td>\n",
       "      <td>−268,126</td>\n",
       "      <td>1.02</td>\n",
       "      <td>40.1</td>\n",
       "      <td>67.5%</td>\n",
       "      <td>17.20%</td>\n",
       "    </tr>\n",
       "    <tr>\n",
       "      <th>2</th>\n",
       "      <td>3</td>\n",
       "      <td>United States</td>\n",
       "      <td>347,275,807</td>\n",
       "      <td>0.54%</td>\n",
       "      <td>1,849,236</td>\n",
       "      <td>38</td>\n",
       "      <td>9,147,420</td>\n",
       "      <td>1,230,663</td>\n",
       "      <td>1.62</td>\n",
       "      <td>38.5</td>\n",
       "      <td>82.8%</td>\n",
       "      <td>4.22%</td>\n",
       "    </tr>\n",
       "    <tr>\n",
       "      <th>3</th>\n",
       "      <td>4</td>\n",
       "      <td>Indonesia</td>\n",
       "      <td>285,721,236</td>\n",
       "      <td>0.79%</td>\n",
       "      <td>2,233,305</td>\n",
       "      <td>158</td>\n",
       "      <td>1,811,570</td>\n",
       "      <td>−39,509</td>\n",
       "      <td>2.1</td>\n",
       "      <td>30.4</td>\n",
       "      <td>59.6%</td>\n",
       "      <td>3.47%</td>\n",
       "    </tr>\n",
       "    <tr>\n",
       "      <th>4</th>\n",
       "      <td>5</td>\n",
       "      <td>Pakistan</td>\n",
       "      <td>255,219,554</td>\n",
       "      <td>1.57%</td>\n",
       "      <td>3,950,390</td>\n",
       "      <td>331</td>\n",
       "      <td>770,880</td>\n",
       "      <td>−1,235,336</td>\n",
       "      <td>3.5</td>\n",
       "      <td>20.6</td>\n",
       "      <td>34.4%</td>\n",
       "      <td>3.10%</td>\n",
       "    </tr>\n",
       "  </tbody>\n",
       "</table>\n",
       "</div>"
      ],
      "text/plain": [
       "   # Country (ordependency) Population(2025) YearlyChange   NetChange  \\\n",
       "0  1                  India    1,463,865,525        0.89%  12,929,734   \n",
       "1  2                  China    1,416,096,094       −0.23%  −3,225,184   \n",
       "2  3          United States      347,275,807        0.54%   1,849,236   \n",
       "3  4              Indonesia      285,721,236        0.79%   2,233,305   \n",
       "4  5               Pakistan      255,219,554        1.57%   3,950,390   \n",
       "\n",
       "  Density(P/Km²) Land Area(Km²) Migrants(net) Fert.Rate MedianAge UrbanPop %  \\\n",
       "0            492      2,973,190      −495,753      1.94      28.8      37.1%   \n",
       "1            151      9,388,211      −268,126      1.02      40.1      67.5%   \n",
       "2             38      9,147,420     1,230,663      1.62      38.5      82.8%   \n",
       "3            158      1,811,570       −39,509       2.1      30.4      59.6%   \n",
       "4            331        770,880    −1,235,336       3.5      20.6      34.4%   \n",
       "\n",
       "  WorldShare  \n",
       "0     17.78%  \n",
       "1     17.20%  \n",
       "2      4.22%  \n",
       "3      3.47%  \n",
       "4      3.10%  "
      ]
     },
     "execution_count": 74,
     "metadata": {},
     "output_type": "execute_result"
    }
   ],
   "source": [
    "df = pd.DataFrame(data[1:], columns=data[0])\n",
    "\n",
    "df.head()"
   ]
  }
 ],
 "metadata": {
  "kernelspec": {
   "display_name": "Python 3",
   "language": "python",
   "name": "python3"
  },
  "language_info": {
   "codemirror_mode": {
    "name": "ipython",
    "version": 3
   },
   "file_extension": ".py",
   "mimetype": "text/x-python",
   "name": "python",
   "nbconvert_exporter": "python",
   "pygments_lexer": "ipython3",
   "version": "3.11.9"
  }
 },
 "nbformat": 4,
 "nbformat_minor": 5
}
